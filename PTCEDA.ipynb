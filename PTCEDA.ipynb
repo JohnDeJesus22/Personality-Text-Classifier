{
 "cells": [
  {
   "cell_type": "markdown",
   "metadata": {},
   "source": [
    "# Personality Text Classifier EDA"
   ]
  },
  {
   "cell_type": "code",
   "execution_count": 1,
   "metadata": {},
   "outputs": [],
   "source": [
    "#Import libraries\n",
    "import pandas as pd\n",
    "import numpy as np\n",
    "import os\n",
    "import matplotlib.pyplot as plt\n",
    "import seaborn as sns\n",
    "\n",
    "import warnings\n",
    "warnings.filterwarnings(\"ignore\")\n",
    "\n",
    "%matplotlib inline"
   ]
  },
  {
   "cell_type": "code",
   "execution_count": 2,
   "metadata": {},
   "outputs": [],
   "source": [
    "#change directory\n",
    "os.chdir('D:\\\\')"
   ]
  },
  {
   "cell_type": "code",
   "execution_count": 3,
   "metadata": {},
   "outputs": [
    {
     "data": {
      "text/html": [
       "<div>\n",
       "<style scoped>\n",
       "    .dataframe tbody tr th:only-of-type {\n",
       "        vertical-align: middle;\n",
       "    }\n",
       "\n",
       "    .dataframe tbody tr th {\n",
       "        vertical-align: top;\n",
       "    }\n",
       "\n",
       "    .dataframe thead th {\n",
       "        text-align: right;\n",
       "    }\n",
       "</style>\n",
       "<table border=\"1\" class=\"dataframe\">\n",
       "  <thead>\n",
       "    <tr style=\"text-align: right;\">\n",
       "      <th></th>\n",
       "      <th>type</th>\n",
       "      <th>individualPosts</th>\n",
       "      <th>text_length</th>\n",
       "    </tr>\n",
       "  </thead>\n",
       "  <tbody>\n",
       "    <tr>\n",
       "      <th>0</th>\n",
       "      <td>ENTP</td>\n",
       "      <td>I'm finding the lack of me in these posts very...</td>\n",
       "      <td>56</td>\n",
       "    </tr>\n",
       "    <tr>\n",
       "      <th>1</th>\n",
       "      <td>INTJ</td>\n",
       "      <td>Dear INTP,   I enjoyed our conversation the ot...</td>\n",
       "      <td>188</td>\n",
       "    </tr>\n",
       "    <tr>\n",
       "      <th>2</th>\n",
       "      <td>ENTJ</td>\n",
       "      <td>You're fired.</td>\n",
       "      <td>13</td>\n",
       "    </tr>\n",
       "    <tr>\n",
       "      <th>3</th>\n",
       "      <td>INTJ</td>\n",
       "      <td>18/37 @.@</td>\n",
       "      <td>9</td>\n",
       "    </tr>\n",
       "    <tr>\n",
       "      <th>4</th>\n",
       "      <td>INFJ</td>\n",
       "      <td>No, I can't draw on my own nails (haha). Those...</td>\n",
       "      <td>191</td>\n",
       "    </tr>\n",
       "  </tbody>\n",
       "</table>\n",
       "</div>"
      ],
      "text/plain": [
       "   type                                    individualPosts  text_length\n",
       "0  ENTP  I'm finding the lack of me in these posts very...           56\n",
       "1  INTJ  Dear INTP,   I enjoyed our conversation the ot...          188\n",
       "2  ENTJ                                      You're fired.           13\n",
       "3  INTJ                                          18/37 @.@            9\n",
       "4  INFJ  No, I can't draw on my own nails (haha). Those...          191"
      ]
     },
     "execution_count": 3,
     "metadata": {},
     "output_type": "execute_result"
    }
   ],
   "source": [
    "#import melted data set and check head\n",
    "df_melt=pd.read_csv('mbt_1_Melted.csv',encoding='latin1')\n",
    "df_melt.head()"
   ]
  },
  {
   "cell_type": "code",
   "execution_count": 4,
   "metadata": {},
   "outputs": [
    {
     "data": {
      "text/html": [
       "<div>\n",
       "<style scoped>\n",
       "    .dataframe tbody tr th:only-of-type {\n",
       "        vertical-align: middle;\n",
       "    }\n",
       "\n",
       "    .dataframe tbody tr th {\n",
       "        vertical-align: top;\n",
       "    }\n",
       "\n",
       "    .dataframe thead th {\n",
       "        text-align: right;\n",
       "    }\n",
       "</style>\n",
       "<table border=\"1\" class=\"dataframe\">\n",
       "  <thead>\n",
       "    <tr style=\"text-align: right;\">\n",
       "      <th></th>\n",
       "      <th>type</th>\n",
       "      <th>individualPosts</th>\n",
       "      <th>text_length</th>\n",
       "    </tr>\n",
       "  </thead>\n",
       "  <tbody>\n",
       "    <tr>\n",
       "      <th>396308</th>\n",
       "      <td>ISFP</td>\n",
       "      <td>Also, what moderate even means changes dependi...</td>\n",
       "      <td>196</td>\n",
       "    </tr>\n",
       "    <tr>\n",
       "      <th>396309</th>\n",
       "      <td>ENFP</td>\n",
       "      <td>My lovelife is nonexistant.   Recently (basica...</td>\n",
       "      <td>202</td>\n",
       "    </tr>\n",
       "    <tr>\n",
       "      <th>396310</th>\n",
       "      <td>INTP</td>\n",
       "      <td>This is a loaded question.   As for me I'm 19 ...</td>\n",
       "      <td>188</td>\n",
       "    </tr>\n",
       "    <tr>\n",
       "      <th>396311</th>\n",
       "      <td>INFP</td>\n",
       "      <td>Wait, leafstone, third volume of 1Q84?  Was th...</td>\n",
       "      <td>201</td>\n",
       "    </tr>\n",
       "    <tr>\n",
       "      <th>396312</th>\n",
       "      <td>INFP</td>\n",
       "      <td>I would never want to turn off my emotions. so...</td>\n",
       "      <td>112</td>\n",
       "    </tr>\n",
       "  </tbody>\n",
       "</table>\n",
       "</div>"
      ],
      "text/plain": [
       "        type                                    individualPosts  text_length\n",
       "396308  ISFP  Also, what moderate even means changes dependi...          196\n",
       "396309  ENFP  My lovelife is nonexistant.   Recently (basica...          202\n",
       "396310  INTP  This is a loaded question.   As for me I'm 19 ...          188\n",
       "396311  INFP  Wait, leafstone, third volume of 1Q84?  Was th...          201\n",
       "396312  INFP  I would never want to turn off my emotions. so...          112"
      ]
     },
     "execution_count": 4,
     "metadata": {},
     "output_type": "execute_result"
    }
   ],
   "source": [
    "#check tail\n",
    "df_melt.tail()"
   ]
  },
  {
   "cell_type": "code",
   "execution_count": 5,
   "metadata": {},
   "outputs": [
    {
     "name": "stdout",
     "output_type": "stream",
     "text": [
      "<class 'pandas.core.frame.DataFrame'>\n",
      "RangeIndex: 396313 entries, 0 to 396312\n",
      "Data columns (total 3 columns):\n",
      "type               396313 non-null object\n",
      "individualPosts    395472 non-null object\n",
      "text_length        396313 non-null int64\n",
      "dtypes: int64(1), object(2)\n",
      "memory usage: 9.1+ MB\n"
     ]
    }
   ],
   "source": [
    "#Get info\n",
    "df_melt.info()"
   ]
  },
  {
   "cell_type": "code",
   "execution_count": 6,
   "metadata": {},
   "outputs": [
    {
     "data": {
      "text/html": [
       "<div>\n",
       "<style scoped>\n",
       "    .dataframe tbody tr th:only-of-type {\n",
       "        vertical-align: middle;\n",
       "    }\n",
       "\n",
       "    .dataframe tbody tr th {\n",
       "        vertical-align: top;\n",
       "    }\n",
       "\n",
       "    .dataframe thead th {\n",
       "        text-align: right;\n",
       "    }\n",
       "</style>\n",
       "<table border=\"1\" class=\"dataframe\">\n",
       "  <thead>\n",
       "    <tr style=\"text-align: right;\">\n",
       "      <th></th>\n",
       "      <th>text_length</th>\n",
       "    </tr>\n",
       "  </thead>\n",
       "  <tbody>\n",
       "    <tr>\n",
       "      <th>count</th>\n",
       "      <td>396313.000000</td>\n",
       "    </tr>\n",
       "    <tr>\n",
       "      <th>mean</th>\n",
       "      <td>148.705642</td>\n",
       "    </tr>\n",
       "    <tr>\n",
       "      <th>std</th>\n",
       "      <td>70.287985</td>\n",
       "    </tr>\n",
       "    <tr>\n",
       "      <th>min</th>\n",
       "      <td>0.000000</td>\n",
       "    </tr>\n",
       "    <tr>\n",
       "      <th>25%</th>\n",
       "      <td>91.000000</td>\n",
       "    </tr>\n",
       "    <tr>\n",
       "      <th>50%</th>\n",
       "      <td>194.000000</td>\n",
       "    </tr>\n",
       "    <tr>\n",
       "      <th>75%</th>\n",
       "      <td>199.000000</td>\n",
       "    </tr>\n",
       "    <tr>\n",
       "      <th>max</th>\n",
       "      <td>4353.000000</td>\n",
       "    </tr>\n",
       "  </tbody>\n",
       "</table>\n",
       "</div>"
      ],
      "text/plain": [
       "         text_length\n",
       "count  396313.000000\n",
       "mean      148.705642\n",
       "std        70.287985\n",
       "min         0.000000\n",
       "25%        91.000000\n",
       "50%       194.000000\n",
       "75%       199.000000\n",
       "max      4353.000000"
      ]
     },
     "execution_count": 6,
     "metadata": {},
     "output_type": "execute_result"
    }
   ],
   "source": [
    "#get info on stats of text_length column\n",
    "df_melt.describe()"
   ]
  },
  {
   "cell_type": "markdown",
   "metadata": {},
   "source": [
    "There is at least one entry with no text and one with length of 4353. The larger could be an outlier(s)."
   ]
  },
  {
   "cell_type": "code",
   "execution_count": 7,
   "metadata": {},
   "outputs": [
    {
     "data": {
      "text/html": [
       "<div>\n",
       "<style scoped>\n",
       "    .dataframe tbody tr th:only-of-type {\n",
       "        vertical-align: middle;\n",
       "    }\n",
       "\n",
       "    .dataframe tbody tr th {\n",
       "        vertical-align: top;\n",
       "    }\n",
       "\n",
       "    .dataframe thead th {\n",
       "        text-align: right;\n",
       "    }\n",
       "</style>\n",
       "<table border=\"1\" class=\"dataframe\">\n",
       "  <thead>\n",
       "    <tr style=\"text-align: right;\">\n",
       "      <th></th>\n",
       "      <th>type</th>\n",
       "      <th>individualPosts</th>\n",
       "      <th>text_length</th>\n",
       "    </tr>\n",
       "  </thead>\n",
       "  <tbody>\n",
       "    <tr>\n",
       "      <th>8114</th>\n",
       "      <td>INFP</td>\n",
       "      <td>NaN</td>\n",
       "      <td>0</td>\n",
       "    </tr>\n",
       "    <tr>\n",
       "      <th>15885</th>\n",
       "      <td>INFP</td>\n",
       "      <td>NaN</td>\n",
       "      <td>0</td>\n",
       "    </tr>\n",
       "    <tr>\n",
       "      <th>15996</th>\n",
       "      <td>ENTJ</td>\n",
       "      <td>NaN</td>\n",
       "      <td>0</td>\n",
       "    </tr>\n",
       "    <tr>\n",
       "      <th>18236</th>\n",
       "      <td>INFP</td>\n",
       "      <td>NaN</td>\n",
       "      <td>0</td>\n",
       "    </tr>\n",
       "    <tr>\n",
       "      <th>22552</th>\n",
       "      <td>INFJ</td>\n",
       "      <td>NaN</td>\n",
       "      <td>0</td>\n",
       "    </tr>\n",
       "    <tr>\n",
       "      <th>23979</th>\n",
       "      <td>INFP</td>\n",
       "      <td>NaN</td>\n",
       "      <td>0</td>\n",
       "    </tr>\n",
       "    <tr>\n",
       "      <th>24094</th>\n",
       "      <td>ENTJ</td>\n",
       "      <td>NaN</td>\n",
       "      <td>0</td>\n",
       "    </tr>\n",
       "    <tr>\n",
       "      <th>24196</th>\n",
       "      <td>ENFP</td>\n",
       "      <td>NaN</td>\n",
       "      <td>0</td>\n",
       "    </tr>\n",
       "    <tr>\n",
       "      <th>24359</th>\n",
       "      <td>INFP</td>\n",
       "      <td>NaN</td>\n",
       "      <td>0</td>\n",
       "    </tr>\n",
       "    <tr>\n",
       "      <th>24743</th>\n",
       "      <td>ISTP</td>\n",
       "      <td>NaN</td>\n",
       "      <td>0</td>\n",
       "    </tr>\n",
       "    <tr>\n",
       "      <th>26337</th>\n",
       "      <td>INFP</td>\n",
       "      <td>NaN</td>\n",
       "      <td>0</td>\n",
       "    </tr>\n",
       "    <tr>\n",
       "      <th>29241</th>\n",
       "      <td>INFJ</td>\n",
       "      <td>NaN</td>\n",
       "      <td>0</td>\n",
       "    </tr>\n",
       "    <tr>\n",
       "      <th>30686</th>\n",
       "      <td>INFJ</td>\n",
       "      <td>NaN</td>\n",
       "      <td>0</td>\n",
       "    </tr>\n",
       "    <tr>\n",
       "      <th>32221</th>\n",
       "      <td>ENTJ</td>\n",
       "      <td>NaN</td>\n",
       "      <td>0</td>\n",
       "    </tr>\n",
       "    <tr>\n",
       "      <th>32315</th>\n",
       "      <td>ENFP</td>\n",
       "      <td>NaN</td>\n",
       "      <td>0</td>\n",
       "    </tr>\n",
       "    <tr>\n",
       "      <th>32871</th>\n",
       "      <td>ISTP</td>\n",
       "      <td>NaN</td>\n",
       "      <td>0</td>\n",
       "    </tr>\n",
       "    <tr>\n",
       "      <th>34288</th>\n",
       "      <td>ISTJ</td>\n",
       "      <td>NaN</td>\n",
       "      <td>0</td>\n",
       "    </tr>\n",
       "    <tr>\n",
       "      <th>34465</th>\n",
       "      <td>INFP</td>\n",
       "      <td>NaN</td>\n",
       "      <td>0</td>\n",
       "    </tr>\n",
       "    <tr>\n",
       "      <th>35370</th>\n",
       "      <td>INFP</td>\n",
       "      <td>NaN</td>\n",
       "      <td>0</td>\n",
       "    </tr>\n",
       "    <tr>\n",
       "      <th>38376</th>\n",
       "      <td>ENFP</td>\n",
       "      <td>NaN</td>\n",
       "      <td>0</td>\n",
       "    </tr>\n",
       "    <tr>\n",
       "      <th>38778</th>\n",
       "      <td>INFJ</td>\n",
       "      <td>NaN</td>\n",
       "      <td>0</td>\n",
       "    </tr>\n",
       "    <tr>\n",
       "      <th>40210</th>\n",
       "      <td>INFP</td>\n",
       "      <td>NaN</td>\n",
       "      <td>0</td>\n",
       "    </tr>\n",
       "    <tr>\n",
       "      <th>40324</th>\n",
       "      <td>ENTJ</td>\n",
       "      <td>NaN</td>\n",
       "      <td>0</td>\n",
       "    </tr>\n",
       "    <tr>\n",
       "      <th>40424</th>\n",
       "      <td>ENFP</td>\n",
       "      <td>NaN</td>\n",
       "      <td>0</td>\n",
       "    </tr>\n",
       "    <tr>\n",
       "      <th>40589</th>\n",
       "      <td>INFP</td>\n",
       "      <td>NaN</td>\n",
       "      <td>0</td>\n",
       "    </tr>\n",
       "    <tr>\n",
       "      <th>41250</th>\n",
       "      <td>INFJ</td>\n",
       "      <td>NaN</td>\n",
       "      <td>0</td>\n",
       "    </tr>\n",
       "    <tr>\n",
       "      <th>42412</th>\n",
       "      <td>ISTJ</td>\n",
       "      <td>NaN</td>\n",
       "      <td>0</td>\n",
       "    </tr>\n",
       "    <tr>\n",
       "      <th>43481</th>\n",
       "      <td>INFP</td>\n",
       "      <td>NaN</td>\n",
       "      <td>0</td>\n",
       "    </tr>\n",
       "    <tr>\n",
       "      <th>46494</th>\n",
       "      <td>ENFP</td>\n",
       "      <td>NaN</td>\n",
       "      <td>0</td>\n",
       "    </tr>\n",
       "    <tr>\n",
       "      <th>46896</th>\n",
       "      <td>INFJ</td>\n",
       "      <td>NaN</td>\n",
       "      <td>0</td>\n",
       "    </tr>\n",
       "    <tr>\n",
       "      <th>...</th>\n",
       "      <td>...</td>\n",
       "      <td>...</td>\n",
       "      <td>...</td>\n",
       "    </tr>\n",
       "    <tr>\n",
       "      <th>379210</th>\n",
       "      <td>INFJ</td>\n",
       "      <td>NaN</td>\n",
       "      <td>0</td>\n",
       "    </tr>\n",
       "    <tr>\n",
       "      <th>379693</th>\n",
       "      <td>ISTP</td>\n",
       "      <td>NaN</td>\n",
       "      <td>0</td>\n",
       "    </tr>\n",
       "    <tr>\n",
       "      <th>379738</th>\n",
       "      <td>ESTP</td>\n",
       "      <td>NaN</td>\n",
       "      <td>0</td>\n",
       "    </tr>\n",
       "    <tr>\n",
       "      <th>380026</th>\n",
       "      <td>ENTP</td>\n",
       "      <td>NaN</td>\n",
       "      <td>0</td>\n",
       "    </tr>\n",
       "    <tr>\n",
       "      <th>380595</th>\n",
       "      <td>INFJ</td>\n",
       "      <td>NaN</td>\n",
       "      <td>0</td>\n",
       "    </tr>\n",
       "    <tr>\n",
       "      <th>380792</th>\n",
       "      <td>ISTP</td>\n",
       "      <td>NaN</td>\n",
       "      <td>0</td>\n",
       "    </tr>\n",
       "    <tr>\n",
       "      <th>381398</th>\n",
       "      <td>INFP</td>\n",
       "      <td>NaN</td>\n",
       "      <td>0</td>\n",
       "    </tr>\n",
       "    <tr>\n",
       "      <th>381616</th>\n",
       "      <td>INTP</td>\n",
       "      <td>NaN</td>\n",
       "      <td>0</td>\n",
       "    </tr>\n",
       "    <tr>\n",
       "      <th>382544</th>\n",
       "      <td>INTJ</td>\n",
       "      <td>NaN</td>\n",
       "      <td>0</td>\n",
       "    </tr>\n",
       "    <tr>\n",
       "      <th>382571</th>\n",
       "      <td>ENTP</td>\n",
       "      <td>NaN</td>\n",
       "      <td>0</td>\n",
       "    </tr>\n",
       "    <tr>\n",
       "      <th>382706</th>\n",
       "      <td>INFP</td>\n",
       "      <td>NaN</td>\n",
       "      <td>0</td>\n",
       "    </tr>\n",
       "    <tr>\n",
       "      <th>382736</th>\n",
       "      <td>ENTJ</td>\n",
       "      <td>NaN</td>\n",
       "      <td>0</td>\n",
       "    </tr>\n",
       "    <tr>\n",
       "      <th>382974</th>\n",
       "      <td>ENFP</td>\n",
       "      <td>NaN</td>\n",
       "      <td>0</td>\n",
       "    </tr>\n",
       "    <tr>\n",
       "      <th>383029</th>\n",
       "      <td>ENTP</td>\n",
       "      <td>NaN</td>\n",
       "      <td>0</td>\n",
       "    </tr>\n",
       "    <tr>\n",
       "      <th>383268</th>\n",
       "      <td>ENTP</td>\n",
       "      <td>NaN</td>\n",
       "      <td>0</td>\n",
       "    </tr>\n",
       "    <tr>\n",
       "      <th>384278</th>\n",
       "      <td>ENFP</td>\n",
       "      <td>NaN</td>\n",
       "      <td>0</td>\n",
       "    </tr>\n",
       "    <tr>\n",
       "      <th>384668</th>\n",
       "      <td>INFJ</td>\n",
       "      <td>NaN</td>\n",
       "      <td>0</td>\n",
       "    </tr>\n",
       "    <tr>\n",
       "      <th>384851</th>\n",
       "      <td>INTP</td>\n",
       "      <td>NaN</td>\n",
       "      <td>0</td>\n",
       "    </tr>\n",
       "    <tr>\n",
       "      <th>385395</th>\n",
       "      <td>INFJ</td>\n",
       "      <td>NaN</td>\n",
       "      <td>0</td>\n",
       "    </tr>\n",
       "    <tr>\n",
       "      <th>385430</th>\n",
       "      <td>INTP</td>\n",
       "      <td>NaN</td>\n",
       "      <td>0</td>\n",
       "    </tr>\n",
       "    <tr>\n",
       "      <th>385431</th>\n",
       "      <td>ENTP</td>\n",
       "      <td>NaN</td>\n",
       "      <td>0</td>\n",
       "    </tr>\n",
       "    <tr>\n",
       "      <th>387033</th>\n",
       "      <td>ISTP</td>\n",
       "      <td>NaN</td>\n",
       "      <td>0</td>\n",
       "    </tr>\n",
       "    <tr>\n",
       "      <th>387076</th>\n",
       "      <td>ESTP</td>\n",
       "      <td>NaN</td>\n",
       "      <td>0</td>\n",
       "    </tr>\n",
       "    <tr>\n",
       "      <th>387361</th>\n",
       "      <td>ENTP</td>\n",
       "      <td>NaN</td>\n",
       "      <td>0</td>\n",
       "    </tr>\n",
       "    <tr>\n",
       "      <th>387927</th>\n",
       "      <td>INFJ</td>\n",
       "      <td>NaN</td>\n",
       "      <td>0</td>\n",
       "    </tr>\n",
       "    <tr>\n",
       "      <th>388126</th>\n",
       "      <td>ISTP</td>\n",
       "      <td>NaN</td>\n",
       "      <td>0</td>\n",
       "    </tr>\n",
       "    <tr>\n",
       "      <th>388503</th>\n",
       "      <td>ENTJ</td>\n",
       "      <td>NaN</td>\n",
       "      <td>0</td>\n",
       "    </tr>\n",
       "    <tr>\n",
       "      <th>388714</th>\n",
       "      <td>INFP</td>\n",
       "      <td>NaN</td>\n",
       "      <td>0</td>\n",
       "    </tr>\n",
       "    <tr>\n",
       "      <th>388929</th>\n",
       "      <td>INTP</td>\n",
       "      <td>NaN</td>\n",
       "      <td>0</td>\n",
       "    </tr>\n",
       "    <tr>\n",
       "      <th>389056</th>\n",
       "      <td>ENFP</td>\n",
       "      <td>NaN</td>\n",
       "      <td>0</td>\n",
       "    </tr>\n",
       "  </tbody>\n",
       "</table>\n",
       "<p>839 rows × 3 columns</p>\n",
       "</div>"
      ],
      "text/plain": [
       "        type individualPosts  text_length\n",
       "8114    INFP             NaN            0\n",
       "15885   INFP             NaN            0\n",
       "15996   ENTJ             NaN            0\n",
       "18236   INFP             NaN            0\n",
       "22552   INFJ             NaN            0\n",
       "23979   INFP             NaN            0\n",
       "24094   ENTJ             NaN            0\n",
       "24196   ENFP             NaN            0\n",
       "24359   INFP             NaN            0\n",
       "24743   ISTP             NaN            0\n",
       "26337   INFP             NaN            0\n",
       "29241   INFJ             NaN            0\n",
       "30686   INFJ             NaN            0\n",
       "32221   ENTJ             NaN            0\n",
       "32315   ENFP             NaN            0\n",
       "32871   ISTP             NaN            0\n",
       "34288   ISTJ             NaN            0\n",
       "34465   INFP             NaN            0\n",
       "35370   INFP             NaN            0\n",
       "38376   ENFP             NaN            0\n",
       "38778   INFJ             NaN            0\n",
       "40210   INFP             NaN            0\n",
       "40324   ENTJ             NaN            0\n",
       "40424   ENFP             NaN            0\n",
       "40589   INFP             NaN            0\n",
       "41250   INFJ             NaN            0\n",
       "42412   ISTJ             NaN            0\n",
       "43481   INFP             NaN            0\n",
       "46494   ENFP             NaN            0\n",
       "46896   INFJ             NaN            0\n",
       "...      ...             ...          ...\n",
       "379210  INFJ             NaN            0\n",
       "379693  ISTP             NaN            0\n",
       "379738  ESTP             NaN            0\n",
       "380026  ENTP             NaN            0\n",
       "380595  INFJ             NaN            0\n",
       "380792  ISTP             NaN            0\n",
       "381398  INFP             NaN            0\n",
       "381616  INTP             NaN            0\n",
       "382544  INTJ             NaN            0\n",
       "382571  ENTP             NaN            0\n",
       "382706  INFP             NaN            0\n",
       "382736  ENTJ             NaN            0\n",
       "382974  ENFP             NaN            0\n",
       "383029  ENTP             NaN            0\n",
       "383268  ENTP             NaN            0\n",
       "384278  ENFP             NaN            0\n",
       "384668  INFJ             NaN            0\n",
       "384851  INTP             NaN            0\n",
       "385395  INFJ             NaN            0\n",
       "385430  INTP             NaN            0\n",
       "385431  ENTP             NaN            0\n",
       "387033  ISTP             NaN            0\n",
       "387076  ESTP             NaN            0\n",
       "387361  ENTP             NaN            0\n",
       "387927  INFJ             NaN            0\n",
       "388126  ISTP             NaN            0\n",
       "388503  ENTJ             NaN            0\n",
       "388714  INFP             NaN            0\n",
       "388929  INTP             NaN            0\n",
       "389056  ENFP             NaN            0\n",
       "\n",
       "[839 rows x 3 columns]"
      ]
     },
     "execution_count": 7,
     "metadata": {},
     "output_type": "execute_result"
    }
   ],
   "source": [
    "#Finding the outliers\n",
    "df_melt[df_melt.text_length==0]"
   ]
  },
  {
   "cell_type": "markdown",
   "metadata": {},
   "source": [
    "So there are 839 rows that have null posts. We will drop them then recheck the summary statistics on them. First we will use missingno to confirm visually."
   ]
  },
  {
   "cell_type": "code",
   "execution_count": 8,
   "metadata": {},
   "outputs": [
    {
     "data": {
      "image/png": "[encoded data removed]",
      "text/plain": [
       "<Figure size 1728x720 with 3 Axes>"
      ]
     },
     "metadata": {},
     "output_type": "display_data"
    }
   ],
   "source": [
    "import missingno as msno\n",
    "msno.bar(df_melt)"
   ]
  },
  {
   "cell_type": "code",
   "execution_count": 9,
   "metadata": {},
   "outputs": [
    {
     "data": {
      "text/plain": [
       "841"
      ]
     },
     "execution_count": 9,
     "metadata": {},
     "output_type": "execute_result"
    }
   ],
   "source": [
    "#Confirm difference\n",
    "396313-395472\n",
    "#got 841, two more than listed..."
   ]
  },
  {
   "cell_type": "code",
   "execution_count": 10,
   "metadata": {},
   "outputs": [
    {
     "data": {
      "text/plain": [
       "841"
      ]
     },
     "execution_count": 10,
     "metadata": {},
     "output_type": "execute_result"
    }
   ],
   "source": [
    "#check with total of null entries in posts column\n",
    "len(df_melt[df_melt['individualPosts'].isnull()==True])\n",
    "#also says 841...need to check for the two that are not considered length of zero"
   ]
  },
  {
   "cell_type": "code",
   "execution_count": 11,
   "metadata": {},
   "outputs": [
    {
     "data": {
      "text/html": [
       "<div>\n",
       "<style scoped>\n",
       "    .dataframe tbody tr th:only-of-type {\n",
       "        vertical-align: middle;\n",
       "    }\n",
       "\n",
       "    .dataframe tbody tr th {\n",
       "        vertical-align: top;\n",
       "    }\n",
       "\n",
       "    .dataframe thead th {\n",
       "        text-align: right;\n",
       "    }\n",
       "</style>\n",
       "<table border=\"1\" class=\"dataframe\">\n",
       "  <thead>\n",
       "    <tr style=\"text-align: right;\">\n",
       "      <th></th>\n",
       "      <th>type</th>\n",
       "      <th>individualPosts</th>\n",
       "      <th>text_length</th>\n",
       "    </tr>\n",
       "  </thead>\n",
       "  <tbody>\n",
       "    <tr>\n",
       "      <th>191388</th>\n",
       "      <td>INTJ</td>\n",
       "      <td>NaN</td>\n",
       "      <td>3</td>\n",
       "    </tr>\n",
       "    <tr>\n",
       "      <th>199479</th>\n",
       "      <td>INTJ</td>\n",
       "      <td>NaN</td>\n",
       "      <td>3</td>\n",
       "    </tr>\n",
       "  </tbody>\n",
       "</table>\n",
       "</div>"
      ],
      "text/plain": [
       "        type individualPosts  text_length\n",
       "191388  INTJ             NaN            3\n",
       "199479  INTJ             NaN            3"
      ]
     },
     "execution_count": 11,
     "metadata": {},
     "output_type": "execute_result"
    }
   ],
   "source": [
    "df_melt[(df_melt['individualPosts'].isnull()==True) & (df_melt.text_length!=0)]\n",
    "#two entries that are null in the posts columns were considered to have a length of 3. Why?"
   ]
  },
  {
   "cell_type": "code",
   "execution_count": 12,
   "metadata": {},
   "outputs": [
    {
     "data": {
      "image/png": "[encoded data removed]",
      "text/plain": [
       "<Figure size 1800x720 with 1 Axes>"
      ]
     },
     "metadata": {},
     "output_type": "display_data"
    }
   ],
   "source": [
    "#experimenting with dendrogram function of missingno \n",
    "msno.dendrogram(df_melt)\n",
    "#chart suggests that filling in type and text_length are correlated. Need to look more into how to read this for the \n",
    "#other part with individualPosts"
   ]
  },
  {
   "cell_type": "code",
   "execution_count": 13,
   "metadata": {},
   "outputs": [],
   "source": [
    "#dropping null values\n",
    "df_melt=df_melt[df_melt['individualPosts'].isnull()==False]"
   ]
  },
  {
   "cell_type": "code",
   "execution_count": 14,
   "metadata": {},
   "outputs": [
    {
     "data": {
      "image/png": "[encoded data removed]",
      "text/plain": [
       "<Figure size 1728x720 with 3 Axes>"
      ]
     },
     "metadata": {},
     "output_type": "display_data"
    }
   ],
   "source": [
    "#check bar chart again\n",
    "msno.bar(df_melt)\n",
    "#all nulls are gone"
   ]
  },
  {
   "cell_type": "code",
   "execution_count": 15,
   "metadata": {},
   "outputs": [
    {
     "data": {
      "text/plain": [
       "array(['ENTP', 'INTJ', 'ENTJ', 'INFJ', 'INTP', 'INFP', 'ENFP', 'ISFP',\n",
       "       'ISTP', 'ISFJ', 'ENFJ', 'ISTJ', 'ESTP', 'ESFP', 'ESTJ', 'ESFJ'], dtype=object)"
      ]
     },
     "execution_count": 15,
     "metadata": {},
     "output_type": "execute_result"
    }
   ],
   "source": [
    "#see personality types\n",
    "df_melt['type'].unique()"
   ]
  },
  {
   "cell_type": "code",
   "execution_count": 16,
   "metadata": {},
   "outputs": [
    {
     "data": {
      "text/plain": [
       "16"
      ]
     },
     "execution_count": 16,
     "metadata": {},
     "output_type": "execute_result"
    }
   ],
   "source": [
    "#get total number of combinations\n",
    "len(df_melt['type'].unique())"
   ]
  },
  {
   "cell_type": "code",
   "execution_count": 17,
   "metadata": {},
   "outputs": [],
   "source": [
    "#get bar chart showing totals of each type\n",
    "type_counts= df_melt['type'].value_counts()"
   ]
  },
  {
   "cell_type": "code",
   "execution_count": 18,
   "metadata": {},
   "outputs": [
    {
     "data": {
      "image/png": "[encoded data removed]",
      "text/plain": [
       "<Figure size 864x288 with 1 Axes>"
      ]
     },
     "metadata": {},
     "output_type": "display_data"
    }
   ],
   "source": [
    "#plotting bar chart\n",
    "plt.figure(figsize=(12,4))\n",
    "sns.barplot(type_counts.index, type_counts.values)\n",
    "plt.ylabel('Number of Occurrences', fontsize=12)\n",
    "plt.xlabel('Types', fontsize=12)\n",
    "plt.show()"
   ]
  },
  {
   "cell_type": "markdown",
   "metadata": {},
   "source": [
    "It seems that most of the personality types in this data set are mostly introverts. The four highest totals are introverts, particularly of the IN type. We could create a column classifying that types as introvert and extrovert (I or E) and then build a binary classifier (definitely try logistic regresssion with this classification since we would create a binary classifier).\n",
    "\n",
    "Maybe this means that introverts are more likely to type online content versus extroverts? Will need to check percentage differences."
   ]
  },
  {
   "cell_type": "code",
   "execution_count": 19,
   "metadata": {},
   "outputs": [
    {
     "name": "stdout",
     "output_type": "stream",
     "text": [
      "ENTP percentage: 8.050380305053203\n",
      "\n",
      "INTJ percentage: 12.473955172553303\n",
      "\n",
      "ENTJ percentage: 2.6977889711534573\n",
      "\n",
      "INFJ percentage: 17.06492495043897\n",
      "\n",
      "INTP percentage: 14.92697333818829\n",
      "\n",
      "INFP percentage: 21.08088562527815\n",
      "\n",
      "ENFP percentage: 7.837217299834122\n",
      "\n",
      "ISFP percentage: 3.0088097260994457\n",
      "\n",
      "ISTP percentage: 3.8586802605494195\n",
      "\n",
      "ISFJ percentage: 1.916444147752559\n",
      "\n",
      "ENFJ percentage: 2.2277177651009428\n",
      "\n",
      "ISTJ percentage: 2.3397358093619776\n",
      "\n",
      "ESTP percentage: 1.0306671521624793\n",
      "\n",
      "ESFP percentage: 0.527470971396205\n",
      "\n",
      "ESTJ percentage: 0.45995670995671\n",
      "\n",
      "ESFJ percentage: 0.4983917951207671\n",
      "\n"
     ]
    }
   ],
   "source": [
    "#percentage differences of each personality type\n",
    "total=np.float(df_melt.shape[0])\n",
    "for personality in df_melt['type'].unique().tolist():\n",
    "    print('{} percentage: {}\\n'.format(personality,df_melt[df_melt.type==personality].shape[0]/total*100))"
   ]
  },
  {
   "cell_type": "code",
   "execution_count": 20,
   "metadata": {},
   "outputs": [
    {
     "data": {
      "text/plain": [
       "65.54673908645871"
      ]
     },
     "execution_count": 20,
     "metadata": {},
     "output_type": "execute_result"
    }
   ],
   "source": [
    "#summing the 4 largest precentages of the personality types\n",
    "21.08088562527815+14.92697333818829+17.06492495043897+12.473955172553303"
   ]
  },
  {
   "cell_type": "markdown",
   "metadata": {},
   "source": [
    "So the first 4 categories alone make up about 66% of the personalities in this data set. They are also all introverts with intuition (the meaning of the N in the coding). This reinforces the idea that introverts write more online content than extroverts. In particular the ones with a sense of intuition."
   ]
  },
  {
   "cell_type": "code",
   "execution_count": 21,
   "metadata": {},
   "outputs": [
    {
     "data": {
      "text/html": [
       "<div>\n",
       "<style scoped>\n",
       "    .dataframe tbody tr th:only-of-type {\n",
       "        vertical-align: middle;\n",
       "    }\n",
       "\n",
       "    .dataframe tbody tr th {\n",
       "        vertical-align: top;\n",
       "    }\n",
       "\n",
       "    .dataframe thead th {\n",
       "        text-align: right;\n",
       "    }\n",
       "</style>\n",
       "<table border=\"1\" class=\"dataframe\">\n",
       "  <thead>\n",
       "    <tr style=\"text-align: right;\">\n",
       "      <th></th>\n",
       "      <th>type</th>\n",
       "      <th>individualPosts</th>\n",
       "      <th>text_length</th>\n",
       "      <th>IntroExtro</th>\n",
       "    </tr>\n",
       "  </thead>\n",
       "  <tbody>\n",
       "    <tr>\n",
       "      <th>0</th>\n",
       "      <td>ENTP</td>\n",
       "      <td>I'm finding the lack of me in these posts very...</td>\n",
       "      <td>56</td>\n",
       "      <td>Extrovert</td>\n",
       "    </tr>\n",
       "    <tr>\n",
       "      <th>1</th>\n",
       "      <td>INTJ</td>\n",
       "      <td>Dear INTP,   I enjoyed our conversation the ot...</td>\n",
       "      <td>188</td>\n",
       "      <td>Introvert</td>\n",
       "    </tr>\n",
       "    <tr>\n",
       "      <th>2</th>\n",
       "      <td>ENTJ</td>\n",
       "      <td>You're fired.</td>\n",
       "      <td>13</td>\n",
       "      <td>Extrovert</td>\n",
       "    </tr>\n",
       "    <tr>\n",
       "      <th>3</th>\n",
       "      <td>INTJ</td>\n",
       "      <td>18/37 @.@</td>\n",
       "      <td>9</td>\n",
       "      <td>Introvert</td>\n",
       "    </tr>\n",
       "    <tr>\n",
       "      <th>4</th>\n",
       "      <td>INFJ</td>\n",
       "      <td>No, I can't draw on my own nails (haha). Those...</td>\n",
       "      <td>191</td>\n",
       "      <td>Introvert</td>\n",
       "    </tr>\n",
       "  </tbody>\n",
       "</table>\n",
       "</div>"
      ],
      "text/plain": [
       "   type                                    individualPosts  text_length  \\\n",
       "0  ENTP  I'm finding the lack of me in these posts very...           56   \n",
       "1  INTJ  Dear INTP,   I enjoyed our conversation the ot...          188   \n",
       "2  ENTJ                                      You're fired.           13   \n",
       "3  INTJ                                          18/37 @.@            9   \n",
       "4  INFJ  No, I can't draw on my own nails (haha). Those...          191   \n",
       "\n",
       "  IntroExtro  \n",
       "0  Extrovert  \n",
       "1  Introvert  \n",
       "2  Extrovert  \n",
       "3  Introvert  \n",
       "4  Introvert  "
      ]
     },
     "execution_count": 21,
     "metadata": {},
     "output_type": "execute_result"
    }
   ],
   "source": [
    "#create a column to convert classify each personality as extrovert(I) or introvert(E)\n",
    "df_melt['IntroExtro']=df_melt['type'].apply(lambda x: 'Introvert' if x[0]=='I' else 'Extrovert')\n",
    "df_melt.head()"
   ]
  },
  {
   "cell_type": "code",
   "execution_count": 22,
   "metadata": {},
   "outputs": [
    {
     "name": "stdout",
     "output_type": "stream",
     "text": [
      "Introvert percentage: 76.67040903022212\n",
      "\n",
      "Extrovert percentage: 23.329590969777886\n",
      "\n"
     ]
    }
   ],
   "source": [
    "#determine percentage of introverts and extroverts in the data set.\n",
    "print('Introvert percentage: {}\\n'.format(df_melt[df_melt.IntroExtro=='Introvert'].shape[0]/total*100))\n",
    "print('Extrovert percentage: {}\\n'.format(df_melt[df_melt.IntroExtro=='Extrovert'].shape[0]/total*100))"
   ]
  },
  {
   "cell_type": "markdown",
   "metadata": {},
   "source": [
    "More than 3/4 of the data set has introvert personalities. Again reinforcing the hypothesis that introverts write more online than extroverts since extroverts by nature are more offline social. \n",
    "\n",
    "Let's get more info on the text_length"
   ]
  },
  {
   "cell_type": "code",
   "execution_count": 23,
   "metadata": {},
   "outputs": [
    {
     "data": {
      "image/png": "[encoded data removed]",
      "text/plain": [
       "<Figure size 432x288 with 1 Axes>"
      ]
     },
     "metadata": {},
     "output_type": "display_data"
    }
   ],
   "source": [
    "#distribution. Changed xlim to 250 since the 75% mark of the data is at about 200 \n",
    "plt.hist(df_melt.text_length, bins=500)\n",
    "plt.title('Text Length Distribution')\n",
    "plt.xlim(0,250)\n",
    "plt.xlabel('Length')\n",
    "plt.ylabel('Total number of entries')\n",
    "plt.show()"
   ]
  },
  {
   "cell_type": "markdown",
   "metadata": {},
   "source": [
    "This subset of the data is left-skewed. Let's look at the box plot to see how the outliers"
   ]
  },
  {
   "cell_type": "code",
   "execution_count": 24,
   "metadata": {},
   "outputs": [
    {
     "data": {
      "image/png": "[encoded data removed]",
      "text/plain": [
       "<Figure size 432x288 with 1 Axes>"
      ]
     },
     "metadata": {},
     "output_type": "display_data"
    }
   ],
   "source": [
    "sns.boxplot(df_melt['text_length'])\n",
    "\n",
    "plt.show()"
   ]
  },
  {
   "cell_type": "markdown",
   "metadata": {},
   "source": [
    "So there are quite a few outliers...We need to get specific's now."
   ]
  },
  {
   "cell_type": "code",
   "execution_count": 25,
   "metadata": {},
   "outputs": [
    {
     "name": "stdout",
     "output_type": "stream",
     "text": [
      "Percentage of Entries <=250: 395400\n",
      "\n",
      "Percentage of Entries >250: 72\n",
      "\n",
      "Number of Entries >500: 64\n",
      "\n",
      "Number of Entries >1000: 48\n",
      "\n",
      "Number of Entries >2000: 19\n",
      "\n",
      "Number of Entries >3000: 11\n",
      "\n",
      "Number of Entries >4000: 2\n",
      "\n"
     ]
    }
   ],
   "source": [
    "#get number of entries greater than particular amounts of characters\n",
    "print('Percentage of Entries <=250: {}\\n'.format(df_melt[df_melt.text_length<=250].shape[0]))\n",
    "print('Percentage of Entries >250: {}\\n'.format(df_melt[df_melt.text_length>250].shape[0]))\n",
    "print('Number of Entries >500: {}\\n'.format(df_melt[df_melt.text_length>500].shape[0]))\n",
    "print('Number of Entries >1000: {}\\n'.format(df_melt[df_melt.text_length>1000].shape[0]))\n",
    "print('Number of Entries >2000: {}\\n'.format(df_melt[df_melt.text_length>2000].shape[0]))\n",
    "print('Number of Entries >3000: {}\\n'.format(df_melt[df_melt.text_length>3000].shape[0]))\n",
    "print('Number of Entries >4000: {}\\n'.format(df_melt[df_melt.text_length>4000].shape[0]))"
   ]
  },
  {
   "cell_type": "code",
   "execution_count": 57,
   "metadata": {},
   "outputs": [
    {
     "name": "stdout",
     "output_type": "stream",
     "text": [
      "Percentage of Entries <=250 characters: 99.98179390702755\n",
      "\n",
      "Percentage of Entries >250 characters: 0.01820609297244811\n",
      "\n",
      "Percentage of Entries >500 characters: 0.016183193753287212\n",
      "\n",
      "Percentage of Entries >1000 characters: 0.012137395314965408\n",
      "\n",
      "Percentage of Entries >2000 characters: 0.00480438564550714\n",
      "\n",
      "Percentage of Entries >3000 characters: 0.0027814864263462392\n",
      "\n",
      "Percentage of Entries >4000 characters: 0.0005057248047902254\n",
      "\n"
     ]
    }
   ],
   "source": [
    "#get percentages of the above\n",
    "print('Percentage of Entries <=250 characters: {}\\n'.format(df_melt[df_melt.text_length<=250].shape[0]/total*100))\n",
    "print('Percentage of Entries >250 characters: {}\\n'.format(df_melt[df_melt.text_length>250].shape[0]/total*100))\n",
    "print('Percentage of Entries >500 characters: {}\\n'.format(df_melt[df_melt.text_length>500].shape[0]/total*100))\n",
    "print('Percentage of Entries >1000 characters: {}\\n'.format(df_melt[df_melt.text_length>1000].shape[0]/total*100))\n",
    "print('Percentage of Entries >2000 characters: {}\\n'.format(df_melt[df_melt.text_length>2000].shape[0]/total*100))\n",
    "print('Percentage of Entries >3000 characters: {}\\n'.format(df_melt[df_melt.text_length>3000].shape[0]/total*100))\n",
    "print('Percentage of Entries >4000 characters: {}\\n'.format(df_melt[df_melt.text_length>4000].shape[0]/total*100))"
   ]
  },
  {
   "cell_type": "markdown",
   "metadata": {},
   "source": [
    "Almost all of the entries are 250 characters are list. Let's look at words instead. Perhaps that will give us a better idea of how much introverts and extroverts write. Then we can go into some sentiment analysis also in addition to the classification."
   ]
  },
  {
   "cell_type": "code",
   "execution_count": 27,
   "metadata": {},
   "outputs": [
    {
     "data": {
      "text/html": [
       "<div>\n",
       "<style scoped>\n",
       "    .dataframe tbody tr th:only-of-type {\n",
       "        vertical-align: middle;\n",
       "    }\n",
       "\n",
       "    .dataframe tbody tr th {\n",
       "        vertical-align: top;\n",
       "    }\n",
       "\n",
       "    .dataframe thead th {\n",
       "        text-align: right;\n",
       "    }\n",
       "</style>\n",
       "<table border=\"1\" class=\"dataframe\">\n",
       "  <thead>\n",
       "    <tr style=\"text-align: right;\">\n",
       "      <th></th>\n",
       "      <th>type</th>\n",
       "      <th>individualPosts</th>\n",
       "      <th>text_length</th>\n",
       "      <th>IntroExtro</th>\n",
       "      <th>wordCount</th>\n",
       "    </tr>\n",
       "  </thead>\n",
       "  <tbody>\n",
       "    <tr>\n",
       "      <th>0</th>\n",
       "      <td>ENTP</td>\n",
       "      <td>I'm finding the lack of me in these posts very...</td>\n",
       "      <td>56</td>\n",
       "      <td>Extrovert</td>\n",
       "      <td>11</td>\n",
       "    </tr>\n",
       "    <tr>\n",
       "      <th>1</th>\n",
       "      <td>INTJ</td>\n",
       "      <td>Dear INTP,   I enjoyed our conversation the ot...</td>\n",
       "      <td>188</td>\n",
       "      <td>Introvert</td>\n",
       "      <td>30</td>\n",
       "    </tr>\n",
       "    <tr>\n",
       "      <th>2</th>\n",
       "      <td>ENTJ</td>\n",
       "      <td>You're fired.</td>\n",
       "      <td>13</td>\n",
       "      <td>Extrovert</td>\n",
       "      <td>2</td>\n",
       "    </tr>\n",
       "    <tr>\n",
       "      <th>3</th>\n",
       "      <td>INTJ</td>\n",
       "      <td>18/37 @.@</td>\n",
       "      <td>9</td>\n",
       "      <td>Introvert</td>\n",
       "      <td>2</td>\n",
       "    </tr>\n",
       "    <tr>\n",
       "      <th>4</th>\n",
       "      <td>INFJ</td>\n",
       "      <td>No, I can't draw on my own nails (haha). Those...</td>\n",
       "      <td>191</td>\n",
       "      <td>Introvert</td>\n",
       "      <td>37</td>\n",
       "    </tr>\n",
       "  </tbody>\n",
       "</table>\n",
       "</div>"
      ],
      "text/plain": [
       "   type                                    individualPosts  text_length  \\\n",
       "0  ENTP  I'm finding the lack of me in these posts very...           56   \n",
       "1  INTJ  Dear INTP,   I enjoyed our conversation the ot...          188   \n",
       "2  ENTJ                                      You're fired.           13   \n",
       "3  INTJ                                          18/37 @.@            9   \n",
       "4  INFJ  No, I can't draw on my own nails (haha). Those...          191   \n",
       "\n",
       "  IntroExtro  wordCount  \n",
       "0  Extrovert         11  \n",
       "1  Introvert         30  \n",
       "2  Extrovert          2  \n",
       "3  Introvert          2  \n",
       "4  Introvert         37  "
      ]
     },
     "execution_count": 27,
     "metadata": {},
     "output_type": "execute_result"
    }
   ],
   "source": [
    "#create word count column\n",
    "df_melt['wordCount']=df_melt['individualPosts'].apply(lambda x: len(x.split()))\n",
    "df_melt.head()"
   ]
  },
  {
   "cell_type": "code",
   "execution_count": 28,
   "metadata": {},
   "outputs": [
    {
     "data": {
      "text/html": [
       "<div>\n",
       "<style scoped>\n",
       "    .dataframe tbody tr th:only-of-type {\n",
       "        vertical-align: middle;\n",
       "    }\n",
       "\n",
       "    .dataframe tbody tr th {\n",
       "        vertical-align: top;\n",
       "    }\n",
       "\n",
       "    .dataframe thead th {\n",
       "        text-align: right;\n",
       "    }\n",
       "</style>\n",
       "<table border=\"1\" class=\"dataframe\">\n",
       "  <thead>\n",
       "    <tr style=\"text-align: right;\">\n",
       "      <th></th>\n",
       "      <th>text_length</th>\n",
       "      <th>wordCount</th>\n",
       "    </tr>\n",
       "  </thead>\n",
       "  <tbody>\n",
       "    <tr>\n",
       "      <th>count</th>\n",
       "      <td>395472.000000</td>\n",
       "      <td>395472.000000</td>\n",
       "    </tr>\n",
       "    <tr>\n",
       "      <th>mean</th>\n",
       "      <td>149.021860</td>\n",
       "      <td>27.403798</td>\n",
       "    </tr>\n",
       "    <tr>\n",
       "      <th>std</th>\n",
       "      <td>70.027035</td>\n",
       "      <td>13.073046</td>\n",
       "    </tr>\n",
       "    <tr>\n",
       "      <th>min</th>\n",
       "      <td>1.000000</td>\n",
       "      <td>1.000000</td>\n",
       "    </tr>\n",
       "    <tr>\n",
       "      <th>25%</th>\n",
       "      <td>92.000000</td>\n",
       "      <td>17.000000</td>\n",
       "    </tr>\n",
       "    <tr>\n",
       "      <th>50%</th>\n",
       "      <td>194.000000</td>\n",
       "      <td>33.000000</td>\n",
       "    </tr>\n",
       "    <tr>\n",
       "      <th>75%</th>\n",
       "      <td>199.000000</td>\n",
       "      <td>37.000000</td>\n",
       "    </tr>\n",
       "    <tr>\n",
       "      <th>max</th>\n",
       "      <td>4353.000000</td>\n",
       "      <td>747.000000</td>\n",
       "    </tr>\n",
       "  </tbody>\n",
       "</table>\n",
       "</div>"
      ],
      "text/plain": [
       "         text_length      wordCount\n",
       "count  395472.000000  395472.000000\n",
       "mean      149.021860      27.403798\n",
       "std        70.027035      13.073046\n",
       "min         1.000000       1.000000\n",
       "25%        92.000000      17.000000\n",
       "50%       194.000000      33.000000\n",
       "75%       199.000000      37.000000\n",
       "max      4353.000000     747.000000"
      ]
     },
     "execution_count": 28,
     "metadata": {},
     "output_type": "execute_result"
    }
   ],
   "source": [
    "#check out the summary statistics of wordCount column\n",
    "df_melt.describe()"
   ]
  },
  {
   "cell_type": "markdown",
   "metadata": {},
   "source": [
    "Again there is at least an extremely large outlier "
   ]
  },
  {
   "cell_type": "code",
   "execution_count": 29,
   "metadata": {},
   "outputs": [],
   "source": [
    "#ecdf function\n",
    "def ecdf(data):\n",
    "    xs=np.sort(data)\n",
    "    ys=np.arange(1,len(data)+1)/len(data)\n",
    "    return xs, ys"
   ]
  },
  {
   "cell_type": "code",
   "execution_count": 30,
   "metadata": {},
   "outputs": [
    {
     "data": {
      "image/png": "[encoded data removed]",
      "text/plain": [
       "<Figure size 432x288 with 1 Axes>"
      ]
     },
     "metadata": {},
     "output_type": "display_data"
    }
   ],
   "source": [
    "#plot ecdf of text_length\n",
    "sns.set()\n",
    "xs,ys=ecdf(df_melt['text_length'])\n",
    "plt.plot(xs,ys, marker='.',linestyle='none')\n",
    "plt.xlabel('text_length')\n",
    "plt.xlim(0,250)\n",
    "plt.ylabel('percentage of comments')\n",
    "plt.show()"
   ]
  },
  {
   "cell_type": "markdown",
   "metadata": {},
   "source": [
    "Most comments are actually a little over 200 characters in length. For top-coding we would cap the upper bound once I use the quartiles. Quartiles will be used instead of the mean and std since the distribution isn't Gaussian. Let's try this with the word count."
   ]
  },
  {
   "cell_type": "code",
   "execution_count": 31,
   "metadata": {},
   "outputs": [
    {
     "data": {
      "image/png": "[encoded data removed]",
      "text/plain": [
       "<Figure size 432x288 with 1 Axes>"
      ]
     },
     "metadata": {},
     "output_type": "display_data"
    }
   ],
   "source": [
    "#ecdf of word count\n",
    "sns.set()\n",
    "xs,ys=ecdf(df_melt['wordCount'])\n",
    "plt.plot(xs,ys, marker='.',linestyle='none')\n",
    "plt.xlabel('wordCount')\n",
    "plt.ylabel('percentage of comments')\n",
    "plt.show()"
   ]
  },
  {
   "cell_type": "markdown",
   "metadata": {},
   "source": [
    "Of course this will need top-coding if this is a selected feature for the classifier. We will redo with a limit of 100 on the x-axis."
   ]
  },
  {
   "cell_type": "code",
   "execution_count": 32,
   "metadata": {},
   "outputs": [
    {
     "data": {
      "image/png": "[encoded data removed]",
      "text/plain": [
       "<Figure size 432x288 with 1 Axes>"
      ]
     },
     "metadata": {},
     "output_type": "display_data"
    }
   ],
   "source": [
    "#ecdf of word count\n",
    "sns.set()\n",
    "xs,ys=ecdf(df_melt['wordCount'])\n",
    "plt.plot(xs,ys, marker='.',linestyle='none')\n",
    "plt.xlabel('wordCount')\n",
    "plt.xlim(0,100)\n",
    "plt.ylabel('percentage of comments')\n",
    "plt.show()"
   ]
  },
  {
   "cell_type": "markdown",
   "metadata": {},
   "source": [
    "Much better! Now we can see that the majority of the entries are less than a little over 40 words. Now to see if the wordcount follows a Gaussian distribution with a q-q plot. This is a plot used to determine if an array of data follows a data distribution by visually seeing if it fits a line of points that are normally distributed."
   ]
  },
  {
   "cell_type": "code",
   "execution_count": 33,
   "metadata": {},
   "outputs": [
    {
     "data": {
      "image/png": "[encoded data removed]",
      "text/plain": [
       "<Figure size 432x288 with 1 Axes>"
      ]
     },
     "metadata": {},
     "output_type": "display_data"
    }
   ],
   "source": [
    "import scipy.stats as stats\n",
    "import pylab\n",
    "\n",
    "# Q-Q plot for wordCount\n",
    "temp = df_melt.dropna(subset=['wordCount'])\n",
    "stats.probplot(temp.wordCount, dist=\"norm\", plot=pylab)\n",
    "pylab.show()"
   ]
  },
  {
   "cell_type": "markdown",
   "metadata": {},
   "source": [
    "First Q-Q plot! Turns out aside from the tail end it is fairly close to a normal distribution. "
   ]
  },
  {
   "cell_type": "code",
   "execution_count": 53,
   "metadata": {},
   "outputs": [
    {
     "data": {
      "image/png": "[encoded data removed]",
      "text/plain": [
       "<Figure size 432x288 with 1 Axes>"
      ]
     },
     "metadata": {},
     "output_type": "display_data"
    }
   ],
   "source": [
    "# Q-Q plot for text_length\n",
    "temp = df_melt.dropna(subset=['text_length'])\n",
    "stats.probplot(temp.wordCount, dist=\"norm\", plot=pylab)\n",
    "pylab.show()"
   ]
  },
  {
   "cell_type": "markdown",
   "metadata": {},
   "source": [
    "Of course this plot is the same. Just to check the correlation between text_length and word count"
   ]
  },
  {
   "cell_type": "code",
   "execution_count": 54,
   "metadata": {},
   "outputs": [
    {
     "data": {
      "text/plain": [
       "0.97619209008097685"
      ]
     },
     "execution_count": 54,
     "metadata": {},
     "output_type": "execute_result"
    }
   ],
   "source": [
    "# confirming correlation of text_length with word count\n",
    "df_melt.text_length.corr(df_melt.wordCount)"
   ]
  },
  {
   "cell_type": "markdown",
   "metadata": {},
   "source": [
    "Naturally there is a correlation between the above features"
   ]
  },
  {
   "cell_type": "code",
   "execution_count": 40,
   "metadata": {},
   "outputs": [],
   "source": [
    "# create columns for remaing letter combinations\n",
    "df_melt['SenseIntuition']=df_melt['type'].apply(lambda x: 'Sensing' if x[1]=='S' else 'Intuition')\n",
    "df_melt['ThinkFeel']=df_melt['type'].apply(lambda x: 'Thinker' if x[2]=='T' else 'Feeler')\n",
    "df_melt['JudgePerceive']=df_melt['type'].apply(lambda x: 'Judge' if x[3]=='J' else 'Perceiver')"
   ]
  },
  {
   "cell_type": "code",
   "execution_count": 41,
   "metadata": {},
   "outputs": [
    {
     "data": {
      "text/html": [
       "<div>\n",
       "<style scoped>\n",
       "    .dataframe tbody tr th:only-of-type {\n",
       "        vertical-align: middle;\n",
       "    }\n",
       "\n",
       "    .dataframe tbody tr th {\n",
       "        vertical-align: top;\n",
       "    }\n",
       "\n",
       "    .dataframe thead th {\n",
       "        text-align: right;\n",
       "    }\n",
       "</style>\n",
       "<table border=\"1\" class=\"dataframe\">\n",
       "  <thead>\n",
       "    <tr style=\"text-align: right;\">\n",
       "      <th></th>\n",
       "      <th>type</th>\n",
       "      <th>individualPosts</th>\n",
       "      <th>text_length</th>\n",
       "      <th>IntroExtro</th>\n",
       "      <th>wordCount</th>\n",
       "      <th>SenseIntuition</th>\n",
       "      <th>ThinkFeel</th>\n",
       "      <th>JudgePerceive</th>\n",
       "    </tr>\n",
       "  </thead>\n",
       "  <tbody>\n",
       "    <tr>\n",
       "      <th>0</th>\n",
       "      <td>ENTP</td>\n",
       "      <td>I'm finding the lack of me in these posts very...</td>\n",
       "      <td>56</td>\n",
       "      <td>Extrovert</td>\n",
       "      <td>11</td>\n",
       "      <td>Intuition</td>\n",
       "      <td>Thinker</td>\n",
       "      <td>Perceiver</td>\n",
       "    </tr>\n",
       "    <tr>\n",
       "      <th>1</th>\n",
       "      <td>INTJ</td>\n",
       "      <td>Dear INTP,   I enjoyed our conversation the ot...</td>\n",
       "      <td>188</td>\n",
       "      <td>Introvert</td>\n",
       "      <td>30</td>\n",
       "      <td>Intuition</td>\n",
       "      <td>Thinker</td>\n",
       "      <td>Judge</td>\n",
       "    </tr>\n",
       "    <tr>\n",
       "      <th>2</th>\n",
       "      <td>ENTJ</td>\n",
       "      <td>You're fired.</td>\n",
       "      <td>13</td>\n",
       "      <td>Extrovert</td>\n",
       "      <td>2</td>\n",
       "      <td>Intuition</td>\n",
       "      <td>Thinker</td>\n",
       "      <td>Judge</td>\n",
       "    </tr>\n",
       "    <tr>\n",
       "      <th>3</th>\n",
       "      <td>INTJ</td>\n",
       "      <td>18/37 @.@</td>\n",
       "      <td>9</td>\n",
       "      <td>Introvert</td>\n",
       "      <td>2</td>\n",
       "      <td>Intuition</td>\n",
       "      <td>Thinker</td>\n",
       "      <td>Judge</td>\n",
       "    </tr>\n",
       "    <tr>\n",
       "      <th>4</th>\n",
       "      <td>INFJ</td>\n",
       "      <td>No, I can't draw on my own nails (haha). Those...</td>\n",
       "      <td>191</td>\n",
       "      <td>Introvert</td>\n",
       "      <td>37</td>\n",
       "      <td>Intuition</td>\n",
       "      <td>Feeler</td>\n",
       "      <td>Judge</td>\n",
       "    </tr>\n",
       "  </tbody>\n",
       "</table>\n",
       "</div>"
      ],
      "text/plain": [
       "   type                                    individualPosts  text_length  \\\n",
       "0  ENTP  I'm finding the lack of me in these posts very...           56   \n",
       "1  INTJ  Dear INTP,   I enjoyed our conversation the ot...          188   \n",
       "2  ENTJ                                      You're fired.           13   \n",
       "3  INTJ                                          18/37 @.@            9   \n",
       "4  INFJ  No, I can't draw on my own nails (haha). Those...          191   \n",
       "\n",
       "  IntroExtro  wordCount SenseIntuition ThinkFeel JudgePerceive  \n",
       "0  Extrovert         11      Intuition   Thinker     Perceiver  \n",
       "1  Introvert         30      Intuition   Thinker         Judge  \n",
       "2  Extrovert          2      Intuition   Thinker         Judge  \n",
       "3  Introvert          2      Intuition   Thinker         Judge  \n",
       "4  Introvert         37      Intuition    Feeler         Judge  "
      ]
     },
     "execution_count": 41,
     "metadata": {},
     "output_type": "execute_result"
    }
   ],
   "source": [
    "# check creation of new columns\n",
    "df_melt.head()"
   ]
  },
  {
   "cell_type": "markdown",
   "metadata": {},
   "source": [
    "Now we will check the ratios of each and determine if there are more balanced rations to use for a classifier."
   ]
  },
  {
   "cell_type": "code",
   "execution_count": 44,
   "metadata": {},
   "outputs": [
    {
     "name": "stdout",
     "output_type": "stream",
     "text": [
      "Sense percentage: 13.640156572399565\n",
      "\n",
      "Intuition percentage: 86.35984342760044\n",
      "\n"
     ]
    }
   ],
   "source": [
    "# check percentage break down of sensing vs intuition\n",
    "print('Sense percentage: {}\\n'.format(df_melt[df_melt.SenseIntuition=='Sensing'].shape[0]/total*100))\n",
    "print('Intuition percentage: {}\\n'.format(df_melt[df_melt.SenseIntuition=='Intuition'].shape[0]/total*100))"
   ]
  },
  {
   "cell_type": "code",
   "execution_count": 45,
   "metadata": {},
   "outputs": [
    {
     "name": "stdout",
     "output_type": "stream",
     "text": [
      "Thinker percentage: 45.838137718978835\n",
      "\n",
      "Feeler percentage: 54.16186228102116\n",
      "\n"
     ]
    }
   ],
   "source": [
    "# check percentage break down of Thinker vs Feeler\n",
    "print('Thinker percentage: {}\\n'.format(df_melt[df_melt.ThinkFeel=='Thinker'].shape[0]/total*100))\n",
    "print('Feeler percentage: {}\\n'.format(df_melt[df_melt.ThinkFeel=='Feeler'].shape[0]/total*100))"
   ]
  },
  {
   "cell_type": "code",
   "execution_count": 47,
   "metadata": {},
   "outputs": [
    {
     "name": "stdout",
     "output_type": "stream",
     "text": [
      "Judger percentage: 39.67891532143869\n",
      "\n",
      "Perceiver percentage: 60.32108467856131\n",
      "\n"
     ]
    }
   ],
   "source": [
    "# check percentage break down of Judger vs Perceiver\n",
    "print('Judger percentage: {}\\n'.format(df_melt[df_melt.JudgePerceive=='Judge'].shape[0]/total*100))\n",
    "print('Perceiver percentage: {}\\n'.format(df_melt[df_melt.JudgePerceive=='Perceiver'].shape[0]/total*100))"
   ]
  },
  {
   "cell_type": "markdown",
   "metadata": {},
   "source": [
    "Comparing the ratio pairs, it seems that Thinker vs Feeler would be more ideal for a classifier since the ratio between the two is the most balanced. The other pairings are two imbalanced. We were to use the other pairings then we would have to use sampling techniques to balance the classes."
   ]
  },
  {
   "cell_type": "code",
   "execution_count": 56,
   "metadata": {},
   "outputs": [
    {
     "data": {
      "image/png": "[encoded data removed]",
      "text/plain": [
       "<Figure size 1440x720 with 1 Axes>"
      ]
     },
     "metadata": {},
     "output_type": "display_data"
    }
   ],
   "source": [
    "# create box plot of word count\n",
    "plt.figure(figsize=(20,10))\n",
    "sns.boxplot(data = df_melt, x = 'type',y = df_melt['wordCount'][df_melt.wordCount<=100])\n",
    "plt.show()"
   ]
  },
  {
   "cell_type": "code",
   "execution_count": 52,
   "metadata": {},
   "outputs": [
    {
     "data": {
      "image/png": "[encoded data removed]",
      "text/plain": [
       "<Figure size 1440x720 with 1 Axes>"
      ]
     },
     "metadata": {},
     "output_type": "display_data"
    }
   ],
   "source": [
    "# create box plot of text length\n",
    "plt.figure(figsize=(20,10))\n",
    "sns.boxplot(data = df_melt, x = 'type',y = df_melt['text_length'][df_melt.text_length<=400])\n",
    "plt.show()"
   ]
  },
  {
   "cell_type": "code",
   "execution_count": 58,
   "metadata": {},
   "outputs": [],
   "source": [
    "df_melt.to_csv('mbt1_modified.csv',index=False)"
   ]
  },
  {
   "cell_type": "code",
   "execution_count": null,
   "metadata": {},
   "outputs": [],
   "source": []
  }
 ],
 "metadata": {
  "kernelspec": {
   "display_name": "Python 3",
   "language": "python",
   "name": "python3"
  },
  "language_info": {
   "codemirror_mode": {
    "name": "ipython",
    "version": 3
   },
   "file_extension": ".py",
   "mimetype": "text/x-python",
   "name": "python",
   "nbconvert_exporter": "python",
   "pygments_lexer": "ipython3",
   "version": "3.6.5"
  }
 },
 "nbformat": 4,
 "nbformat_minor": 2
}
